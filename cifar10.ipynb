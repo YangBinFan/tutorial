{
 "cells": [
  {
   "cell_type": "code",
   "execution_count": 1,
   "metadata": {},
   "outputs": [],
   "source": [
    "from tensorflow.python.keras.datasets import cifar10"
   ]
  },
  {
   "cell_type": "code",
   "execution_count": 2,
   "metadata": {},
   "outputs": [],
   "source": [
    "(x_train,y_train),(x_test,y_test)=cifar10.load_data()"
   ]
  },
  {
   "cell_type": "code",
   "execution_count": 3,
   "metadata": {},
   "outputs": [],
   "source": [
    "from tensorflow.python.keras.utils import to_categorical"
   ]
  },
  {
   "cell_type": "code",
   "execution_count": 4,
   "metadata": {},
   "outputs": [],
   "source": [
    "x_train=x_train/255\n",
    "x_test=x_test/255\n",
    "y_train=to_categorical(y_train,10)\n",
    "y_test=to_categorical(y_test,10)"
   ]
  },
  {
   "cell_type": "code",
   "execution_count": 5,
   "metadata": {},
   "outputs": [],
   "source": [
    "from tensorflow.python.keras.models import Sequential"
   ]
  },
  {
   "cell_type": "code",
   "execution_count": 6,
   "metadata": {},
   "outputs": [],
   "source": [
    "model=Sequential() # could be other models like VGG16 "
   ]
  },
  {
   "cell_type": "code",
   "execution_count": 7,
   "metadata": {},
   "outputs": [],
   "source": [
    "from tensorflow.python.keras.layers import Conv2D"
   ]
  },
  {
   "cell_type": "code",
   "execution_count": 8,
   "metadata": {},
   "outputs": [
    {
     "name": "stdout",
     "output_type": "stream",
     "text": [
      "WARNING:tensorflow:From /home/ec2-user/anaconda3/envs/amazonei_tensorflow_p27/lib/python2.7/site-packages/tensorflow_core/python/ops/resource_variable_ops.py:1630: calling __init__ (from tensorflow.python.ops.resource_variable_ops) with constraint is deprecated and will be removed in a future version.\n",
      "Instructions for updating:\n",
      "If using Keras pass *_constraint arguments to layers.\n"
     ]
    }
   ],
   "source": [
    "model.add(\n",
    "    Conv2D(filters=32,\n",
    "          input_shape=(32,32,3),\n",
    "          kernel_size=(3,3),\n",
    "          strides=(1,1),\n",
    "          padding='same',\n",
    "          activation='relu'\n",
    "    )\n",
    ")\n",
    "\n",
    "model.add(\n",
    "    Conv2D(filters=32,\n",
    "          kernel_size=(3,3),\n",
    "          strides=(1,1),\n",
    "          padding='same',\n",
    "          activation='relu'\n",
    "    )\n",
    ")"
   ]
  },
  {
   "cell_type": "code",
   "execution_count": 9,
   "metadata": {},
   "outputs": [],
   "source": [
    "from tensorflow.python.keras.layers import MaxPooling2D"
   ]
  },
  {
   "cell_type": "code",
   "execution_count": 10,
   "metadata": {},
   "outputs": [],
   "source": [
    "model.add(MaxPooling2D(pool_size=(2,2)))"
   ]
  },
  {
   "cell_type": "code",
   "execution_count": 11,
   "metadata": {},
   "outputs": [],
   "source": [
    "from tensorflow.python.keras.layers import Dropout"
   ]
  },
  {
   "cell_type": "code",
   "execution_count": 12,
   "metadata": {},
   "outputs": [],
   "source": [
    "model.add(Dropout(0.25))"
   ]
  },
  {
   "cell_type": "code",
   "execution_count": 13,
   "metadata": {},
   "outputs": [],
   "source": [
    "model.add(\n",
    "    Conv2D(filters=32,\n",
    "          input_shape=(32,32,3),\n",
    "          kernel_size=(3,3),\n",
    "          strides=(1,1),\n",
    "          padding='same',\n",
    "          activation='relu'\n",
    "    )\n",
    ")\n",
    "\n",
    "model.add(\n",
    "    Conv2D(filters=32,\n",
    "          kernel_size=(3,3),\n",
    "          strides=(1,1),\n",
    "          padding='same',\n",
    "          activation='relu'\n",
    "    )\n",
    ")"
   ]
  },
  {
   "cell_type": "code",
   "execution_count": 14,
   "metadata": {},
   "outputs": [],
   "source": [
    "model.add(\n",
    "    Conv2D(filters=64,\n",
    "          kernel_size=(3,3),\n",
    "          strides=(1,1),\n",
    "          padding='same',\n",
    "          activation='relu'\n",
    "    )\n",
    ")\n",
    "\n",
    "model.add(\n",
    "    Conv2D(filters=64,\n",
    "          kernel_size=(3,3),\n",
    "          strides=(1,1),\n",
    "          padding='same',\n",
    "          activation='relu'\n",
    "    )\n",
    ")\n",
    "model.add(MaxPooling2D(pool_size=(2,2)))\n",
    "model.add(Dropout(0.25))"
   ]
  },
  {
   "cell_type": "code",
   "execution_count": 15,
   "metadata": {},
   "outputs": [
    {
     "data": {
      "text/plain": [
       "(None, 8, 8, 64)"
      ]
     },
     "execution_count": 15,
     "metadata": {},
     "output_type": "execute_result"
    }
   ],
   "source": [
    "model.output_shape"
   ]
  },
  {
   "cell_type": "code",
   "execution_count": 16,
   "metadata": {},
   "outputs": [],
   "source": [
    "from tensorflow.python.keras.layers import Flatten"
   ]
  },
  {
   "cell_type": "code",
   "execution_count": 17,
   "metadata": {},
   "outputs": [],
   "source": [
    "model.add(Flatten())"
   ]
  },
  {
   "cell_type": "code",
   "execution_count": 18,
   "metadata": {},
   "outputs": [
    {
     "data": {
      "text/plain": [
       "(None, 4096)"
      ]
     },
     "execution_count": 18,
     "metadata": {},
     "output_type": "execute_result"
    }
   ],
   "source": [
    "model.output_shape"
   ]
  },
  {
   "cell_type": "code",
   "execution_count": 19,
   "metadata": {},
   "outputs": [],
   "source": [
    "from tensorflow.python.keras.layers import Dense"
   ]
  },
  {
   "cell_type": "code",
   "execution_count": 20,
   "metadata": {},
   "outputs": [],
   "source": [
    "model.add(Dense(units=512,activation='relu'))\n",
    "model.add(Dropout(0.5))\n",
    "model.add(Dense(units=10,activation='softmax'))"
   ]
  },
  {
   "cell_type": "code",
   "execution_count": 21,
   "metadata": {},
   "outputs": [],
   "source": [
    "from tensorflow.python.keras.callbacks import TensorBoard"
   ]
  },
  {
   "cell_type": "code",
   "execution_count": 22,
   "metadata": {},
   "outputs": [
    {
     "name": "stdout",
     "output_type": "stream",
     "text": [
      "Train on 40000 samples, validate on 10000 samples\n",
      "Epoch 1/20\n",
      "40000/40000 [==============================] - 172s 4ms/sample - loss: 2.2458 - acc: 0.1505 - val_loss: 2.2132 - val_acc: 0.1631\n",
      "Epoch 2/20\n",
      "40000/40000 [==============================] - 172s 4ms/sample - loss: 2.2138 - acc: 0.1661 - val_loss: 2.2103 - val_acc: 0.1641\n",
      "Epoch 3/20\n",
      "40000/40000 [==============================] - 172s 4ms/sample - loss: 2.2002 - acc: 0.1722 - val_loss: 2.1964 - val_acc: 0.1687\n",
      "Epoch 4/20\n",
      "40000/40000 [==============================] - 171s 4ms/sample - loss: 2.1854 - acc: 0.1778 - val_loss: 2.1896 - val_acc: 0.1746\n",
      "Epoch 5/20\n",
      "40000/40000 [==============================] - 171s 4ms/sample - loss: 2.1723 - acc: 0.1856 - val_loss: 2.1861 - val_acc: 0.1746\n",
      "Epoch 6/20\n",
      "40000/40000 [==============================] - 171s 4ms/sample - loss: 2.1561 - acc: 0.1863 - val_loss: 2.1869 - val_acc: 0.1764\n",
      "Epoch 7/20\n",
      "40000/40000 [==============================] - 171s 4ms/sample - loss: 2.1376 - acc: 0.1958 - val_loss: 2.1949 - val_acc: 0.1736\n",
      "Epoch 8/20\n",
      "40000/40000 [==============================] - 170s 4ms/sample - loss: 2.1190 - acc: 0.2051 - val_loss: 2.1916 - val_acc: 0.1756\n",
      "Epoch 9/20\n",
      "40000/40000 [==============================] - 172s 4ms/sample - loss: 2.0994 - acc: 0.2121 - val_loss: 2.2004 - val_acc: 0.1768\n",
      "Epoch 10/20\n",
      "40000/40000 [==============================] - 171s 4ms/sample - loss: 2.0766 - acc: 0.2195 - val_loss: 2.2160 - val_acc: 0.1757\n",
      "Epoch 11/20\n",
      "40000/40000 [==============================] - 172s 4ms/sample - loss: 2.0605 - acc: 0.2237 - val_loss: 2.2086 - val_acc: 0.1757\n",
      "Epoch 12/20\n",
      "40000/40000 [==============================] - 172s 4ms/sample - loss: 2.0376 - acc: 0.2340 - val_loss: 2.2193 - val_acc: 0.1758\n",
      "Epoch 13/20\n",
      "40000/40000 [==============================] - 171s 4ms/sample - loss: 2.0154 - acc: 0.2405 - val_loss: 2.2388 - val_acc: 0.1721\n",
      "Epoch 14/20\n",
      "40000/40000 [==============================] - 172s 4ms/sample - loss: 1.9960 - acc: 0.2494 - val_loss: 2.2364 - val_acc: 0.1720\n",
      "Epoch 15/20\n",
      "40000/40000 [==============================] - 171s 4ms/sample - loss: 1.9794 - acc: 0.2561 - val_loss: 2.2568 - val_acc: 0.1701\n",
      "Epoch 16/20\n",
      "40000/40000 [==============================] - 171s 4ms/sample - loss: 1.9622 - acc: 0.2618 - val_loss: 2.3059 - val_acc: 0.1693\n",
      "Epoch 17/20\n",
      "40000/40000 [==============================] - 171s 4ms/sample - loss: 1.9490 - acc: 0.2679 - val_loss: 2.2902 - val_acc: 0.1696\n",
      "Epoch 18/20\n",
      "40000/40000 [==============================] - 172s 4ms/sample - loss: 1.9305 - acc: 0.2743 - val_loss: 2.3074 - val_acc: 0.1659\n",
      "Epoch 19/20\n",
      "40000/40000 [==============================] - 171s 4ms/sample - loss: 1.9106 - acc: 0.2803 - val_loss: 2.3199 - val_acc: 0.1670\n",
      "Epoch 20/20\n",
      "40000/40000 [==============================] - 171s 4ms/sample - loss: 1.9065 - acc: 0.2806 - val_loss: 2.3123 - val_acc: 0.1663\n"
     ]
    }
   ],
   "source": [
    "model.compile(\n",
    "    optimizer='adam',\n",
    "    loss='categorical_crossentropy',\n",
    "    metrics=['accuracy']\n",
    ")\n",
    "tsb=TensorBoard(log_dir='./logs')\n",
    "history_model1=model.fit(\n",
    "    x_train,\n",
    "    y_train,\n",
    "    batch_size=32,\n",
    "    epochs=20,\n",
    "    validation_split=0.2,\n",
    "    callbacks=[tsb]\n",
    ")"
   ]
  },
  {
   "cell_type": "code",
   "execution_count": 23,
   "metadata": {},
   "outputs": [],
   "source": [
    "img_names = ['cat.jpg', 'deer.jpg', 'dog.jpg']"
   ]
  },
  {
   "cell_type": "code",
   "execution_count": 24,
   "metadata": {},
   "outputs": [],
   "source": [
    "import numpy as np\n",
    "import scipy.misc"
   ]
  },
  {
   "cell_type": "code",
   "execution_count": 25,
   "metadata": {},
   "outputs": [
    {
     "name": "stderr",
     "output_type": "stream",
     "text": [
      "/home/ec2-user/anaconda3/envs/amazonei_tensorflow_p27/lib/python2.7/site-packages/ipykernel/__main__.py:2: DeprecationWarning: `imread` is deprecated!\n",
      "`imread` is deprecated in SciPy 1.0.0, and will be removed in 1.2.0.\n",
      "Use ``imageio.imread`` instead.\n",
      "  from ipykernel import kernelapp as app\n",
      "/home/ec2-user/anaconda3/envs/amazonei_tensorflow_p27/lib/python2.7/site-packages/ipykernel/__main__.py:2: DeprecationWarning: `imresize` is deprecated!\n",
      "`imresize` is deprecated in SciPy 1.0.0, and will be removed in 1.3.0.\n",
      "Use Pillow instead: ``numpy.array(Image.fromarray(arr).resize())``.\n",
      "  from ipykernel import kernelapp as app\n"
     ]
    }
   ],
   "source": [
    "imgs = [np.transpose(scipy.misc.imresize(scipy.misc.imread(img_name), (32, 32)), (1, 0, 2)).astype('float32')\n",
    "\t\tfor img_name in img_names]\n",
    "imgs = np.array(imgs) / 255"
   ]
  },
  {
   "cell_type": "code",
   "execution_count": 30,
   "metadata": {},
   "outputs": [
    {
     "name": "stdout",
     "output_type": "stream",
     "text": [
      "[[8.0922824e-01 6.8657445e-03 1.3319531e-01 1.8180450e-02 1.4684607e-02\n",
      "  3.2134033e-03 4.3041566e-03 2.1991702e-03 6.8684923e-03 1.2604268e-03]\n",
      " [8.5106617e-01 2.5542139e-03 1.1624068e-01 1.0945365e-02 1.0928817e-02\n",
      "  1.2137126e-03 2.4976549e-03 7.3180255e-04 3.3347115e-03 4.8678665e-04]\n",
      " [8.0842555e-01 3.4594880e-03 1.3935804e-01 1.6423535e-02 2.0519862e-02\n",
      "  2.4349059e-03 2.4113213e-03 1.8104004e-03 4.5365752e-03 6.2037446e-04]]\n",
      "[0 0 0]\n"
     ]
    }
   ],
   "source": [
    "print(model.predict(imgs))\t\n",
    "print(np.argmax(model.predict(imgs),axis=1))"
   ]
  }
 ],
 "metadata": {
  "kernelspec": {
   "display_name": "Python 3",
   "language": "python",
   "name": "python3"
  },
  "language_info": {
   "codemirror_mode": {
    "name": "ipython",
    "version": 3
   },
   "file_extension": ".py",
   "mimetype": "text/x-python",
   "name": "python",
   "nbconvert_exporter": "python",
   "pygments_lexer": "ipython3",
   "version": "3.7.6"
  }
 },
 "nbformat": 4,
 "nbformat_minor": 4
}
